{
 "cells": [
  {
   "cell_type": "code",
   "execution_count": null,
   "id": "broadband-netherlands",
   "metadata": {},
   "outputs": [],
   "source": [
    "import torch\n",
    "import numpy as np\n",
    "from torchvision import datasets\n",
    "import torchvision\n",
    "import torchvision.transforms as transforms\n",
    "\n",
    "# number of subprocesses to use for data loading\n",
    "num_workers = 0\n",
    "# how many samples per batch to load\n",
    "batch_size = 20\n",
    "\n",
    "# convert data to torch.FloatTensor\n",
    "\n",
    "use_gpu = torch.cuda.is_available()\n",
    "device = torch.device(\"cuda\" if use_gpu else \"cpu\") \n",
    "\n",
    "PATH = \"save/trained_cnn_model.pt\"\n",
    "\n",
    "transform = transforms.Compose(\n",
    "    [transforms.ToTensor(),\n",
    "     transforms.Normalize((0.1307), (0.3081))])\n",
    "\n",
    "\n",
    "# choose the training and test datasets\n",
    "train_data = datasets.MNIST(root='data', train=True, download=True,  transform=transform)\n",
    "test_data  = datasets.MNIST(root='data', train=False, download=True, transform=transform)\n",
    "\n",
    "# prepare data loaders\n",
    "train_loader = torch.utils.data.DataLoader(train_data, batch_size=batch_size,\n",
    "    num_workers=num_workers)\n",
    "test_loader = torch.utils.data.DataLoader(test_data, batch_size=batch_size, \n",
    "    num_workers=num_workers)\n",
    "\n",
    "\n",
    "import torch.nn as nn\n",
    "import torch.nn.functional as F\n",
    "\n",
    "## Define the NN architecture\n",
    "class Net(nn.Module):\n",
    "    def __init__(self):\n",
    "        super(Net, self).__init__()\n",
    "        self.conv1 = nn.Conv2d(1, 32, 3, 1)\n",
    "        self.conv2 = nn.Conv2d(32, 64, 3, 1)\n",
    "        self.dropout1 = nn.Dropout(0.25)\n",
    "        self.dropout2 = nn.Dropout(0.5)\n",
    "        self.fc1 = nn.Linear(9216, 128)\n",
    "        self.fc2 = nn.Linear(128, 10)\n",
    "\n",
    "    def forward(self, x):\n",
    "        x = self.conv1(x)\n",
    "        x = F.relu(x)\n",
    "        x = self.conv2(x)\n",
    "        x = F.relu(x)\n",
    "        x = F.max_pool2d(x, 2)\n",
    "        x = self.dropout1(x)\n",
    "        x = torch.flatten(x, 1)\n",
    "        x = self.fc1(x)\n",
    "        x = F.relu(x)\n",
    "        x = self.dropout2(x)\n",
    "        x = self.fc2(x)\n",
    "        output = F.log_softmax(x, dim=1)\n",
    "        return output\n",
    "\n",
    "model = Net().to(device)\n",
    "print(model)\n",
    "\n",
    "criterion = nn.CrossEntropyLoss().to(device)\n",
    "optimizer = torch.optim.SGD(model.parameters(), lr=0.01)"
   ]
  },
  {
   "cell_type": "code",
   "execution_count": null,
   "id": "outer-bhutan",
   "metadata": {},
   "outputs": [],
   "source": [
    "\n",
    "# number of epochs to train the model\n",
    "n_epochs = 10  \n",
    "# per epoch, all the training data set is used once\n",
    "model.train() # prep model for training\n",
    "\n",
    "\n",
    "for epoch in range(n_epochs):\n",
    "    # monitor training loss\n",
    "    train_loss = 0.0\n",
    "    \n",
    "    ###################\n",
    "    # train the model #\n",
    "    ###################\n",
    "    for data, target in train_loader:\n",
    "        data, target = data.to(device), target.to(device) # loading to GPU\n",
    "        # clear the gradients of all optimized variables\n",
    "        optimizer.zero_grad()\n",
    "        # forward pass: compute predicted outputs by passing inputs to the model\n",
    "        output = model(data)\n",
    "        # calculate the loss\n",
    "        loss = criterion(output, target)\n",
    "        loss.backward()\n",
    "        optimizer.step()\n",
    "        train_loss += loss.item()*data.size(0) # as loss is tensor, .item() needed to get the value\n",
    "        \n",
    "    # print training statistics \n",
    "    # calculate average loss over an epoch\n",
    "    train_loss = train_loss/len(train_loader.dataset)\n",
    "\n",
    "    print('Epoch: {} \\tTraining Loss: {:.6f}'.format(epoch+1, train_loss))\n",
    "    \n",
    "# see following link for details of state_dict   \n",
    "# https://pytorch.org/tutorials/recipes/recipes/saving_and_loading_a_general_checkpoint.html\n",
    "torch.save({\n",
    "            'epoch': epoch,\n",
    "            'model_state_dict': model.state_dict(),\n",
    "            'optimizer_state_dict': optimizer.state_dict(),\n",
    "            'loss': train_loss,\n",
    "            }, PATH)"
   ]
  },
  {
   "cell_type": "code",
   "execution_count": 2,
   "id": "grateful-uniform",
   "metadata": {},
   "outputs": [
    {
     "name": "stdout",
     "output_type": "stream",
     "text": [
      "\n",
      "Test set: Accuracy: 9575/10000 (96%)\n",
      "\n"
     ]
    }
   ],
   "source": [
    "checkpoint = torch.load(PATH)\n",
    "model.load_state_dict(checkpoint['model_state_dict'])\n",
    "optimizer.load_state_dict(checkpoint['optimizer_state_dict'])\n",
    "epoch = checkpoint['epoch']\n",
    "train_loss = checkpoint['loss']\n",
    "\n",
    "model.eval()\n",
    "\n",
    "test_loss = 0\n",
    "correct = 0\n",
    "\n",
    "with torch.no_grad():\n",
    "    for data, target in test_loader:\n",
    "        data, target = data.to(device), target.to(device) # loading to GPU\n",
    "        output = model(data)\n",
    "        pred = output.argmax(dim=1, keepdim=True)  \n",
    "        correct += pred.eq(target.view_as(pred)).sum().item()\n",
    "\n",
    "test_loss /= len(test_loader.dataset)\n",
    "\n",
    "print('\\nTest set: Accuracy: {}/{} ({:.0f}%)\\n'.format(\n",
    "        correct, len(test_loader.dataset),\n",
    "        100. * correct / len(test_loader.dataset)))"
   ]
  },
  {
   "cell_type": "code",
   "execution_count": 3,
   "id": "orange-termination",
   "metadata": {},
   "outputs": [
    {
     "data": {
      "text/plain": [
       "Linear(in_features=9216, out_features=128, bias=True)"
      ]
     },
     "execution_count": 3,
     "metadata": {},
     "output_type": "execute_result"
    }
   ],
   "source": [
    "\n",
    "import torch.nn.utils.prune as prune\n",
    "\n",
    "\n",
    "# dim means which dimension will be pruned in the weight.\n",
    "# dim = 0 prunes output channel, and dim = 1 prunes input channel\n",
    "# n defines which norm is used. e.g., if n=2, L-2 norm is used\n",
    "# fc2 is not pruned out as it is the last layer, e.g., 10 channel to denote 10 arabic numbers\n",
    "prune.ln_structured(model.conv1, name='weight', amount=0.9, dim=0, n=1)\n",
    "prune.ln_structured(model.conv2, name='weight', amount=0.9, dim=0, n=1)\n",
    "prune.ln_structured(model.fc1,   name='weight', amount=0.9, dim=0, n=1)\n"
   ]
  },
  {
   "cell_type": "code",
   "execution_count": null,
   "id": "chief-swaziland",
   "metadata": {},
   "outputs": [],
   "source": [
    "### Below is optional example for structured pruning\n",
    "m = prune.ln_structured(\n",
    "       nn.Conv2d(5, 3, 2), 'weight', amount=0.3, dim=1, n=float('-inf')\n",
    "    )\n",
    "model.conv1.weight[3,:,:]"
   ]
  },
  {
   "cell_type": "code",
   "execution_count": null,
   "id": "dominican-persian",
   "metadata": {},
   "outputs": [],
   "source": [
    "list(model.named_parameters())"
   ]
  },
  {
   "cell_type": "code",
   "execution_count": null,
   "id": "continued-sense",
   "metadata": {},
   "outputs": [],
   "source": [
    "model.conv1.weight"
   ]
  },
  {
   "cell_type": "code",
   "execution_count": null,
   "id": "resistant-investing",
   "metadata": {},
   "outputs": [],
   "source": [
    "model.conv1.weight_mask"
   ]
  },
  {
   "cell_type": "code",
   "execution_count": null,
   "id": "approved-dakota",
   "metadata": {},
   "outputs": [],
   "source": [
    "print(model.conv1.weight_orig)"
   ]
  },
  {
   "cell_type": "code",
   "execution_count": 4,
   "id": "binding-sunglasses",
   "metadata": {},
   "outputs": [
    {
     "name": "stdout",
     "output_type": "stream",
     "text": [
      "Conv1:  tensor(0.9062, device='cuda:0')\n",
      "Conv2:  tensor(0.9062, device='cuda:0')\n",
      "FC1:    tensor(0.8984, device='cuda:0')\n",
      "total:  tensor(0.8986, device='cuda:0')\n"
     ]
    }
   ],
   "source": [
    "mask1 = model.conv1.weight_mask\n",
    "mask2 = model.conv2.weight_mask\n",
    "mask3 = model.fc1.weight_mask\n",
    "\n",
    "sparsity_mask1 = (mask1 == 0).sum() / mask1.nelement()\n",
    "sparsity_mask2 = (mask2 == 0).sum() / mask2.nelement()\n",
    "sparsity_mask3 = (mask3 == 0).sum() / mask3.nelement()\n",
    "\n",
    "print(\"Conv1: \", sparsity_mask1)\n",
    "print(\"Conv2: \", sparsity_mask2)\n",
    "print(\"FC1:   \", sparsity_mask3)\n",
    "\n",
    "\n",
    "total_zeros = (mask1 == 0).sum() + (mask2 == 0).sum() + (mask3 == 0).sum()\n",
    "total_elements = mask1.nelement() + mask2.nelement() + mask3.nelement() \n",
    "\n",
    "print(\"total: \", total_zeros / total_elements)"
   ]
  },
  {
   "cell_type": "code",
   "execution_count": 5,
   "id": "international-financing",
   "metadata": {},
   "outputs": [
    {
     "name": "stdout",
     "output_type": "stream",
     "text": [
      "\n",
      "Test set: Accuracy: 6086/10000 (61%)\n",
      "\n"
     ]
    }
   ],
   "source": [
    "\n",
    "model.eval()\n",
    "\n",
    "test_loss = 0\n",
    "correct = 0\n",
    "\n",
    "with torch.no_grad():\n",
    "    for data, target in test_loader:\n",
    "        data, target = data.to(device), target.to(device) # loading to GPU\n",
    "        output = model(data)\n",
    "        pred = output.argmax(dim=1, keepdim=True)  \n",
    "        correct += pred.eq(target.view_as(pred)).sum().item()\n",
    "\n",
    "test_loss /= len(test_loader.dataset)\n",
    "\n",
    "print('\\nTest set: Accuracy: {}/{} ({:.0f}%)\\n'.format(\n",
    "        correct, len(test_loader.dataset),\n",
    "        100. * correct / len(test_loader.dataset)))"
   ]
  },
  {
   "cell_type": "code",
   "execution_count": null,
   "id": "fiscal-breed",
   "metadata": {},
   "outputs": [],
   "source": [
    "### This cell removes the weight_orig and weight_mask, but only store the pruned weight\n",
    "### Note that if you want to fine-tune with the next cell, you should not run this cell\n",
    "### If you run this cell and finetune, the pruned (zero) weight will be updated again to be non-zero.\n",
    "prune.remove(model.conv1, 'weight')\n",
    "prune.remove(model.conv2, 'weight')\n",
    "prune.remove(model.fc1, 'weight')"
   ]
  },
  {
   "cell_type": "code",
   "execution_count": null,
   "id": "insured-violin",
   "metadata": {},
   "outputs": [],
   "source": [
    "list(model.named_parameters())"
   ]
  },
  {
   "cell_type": "code",
   "execution_count": null,
   "id": "proprietary-seller",
   "metadata": {},
   "outputs": [
    {
     "name": "stdout",
     "output_type": "stream",
     "text": [
      "Epoch: 1 \tTraining Loss: 1.136830\n",
      "Epoch: 2 \tTraining Loss: 1.021149\n",
      "Epoch: 3 \tTraining Loss: 0.957572\n",
      "Epoch: 4 \tTraining Loss: 0.896828\n",
      "Epoch: 5 \tTraining Loss: 0.850934\n",
      "Epoch: 6 \tTraining Loss: 0.811352\n"
     ]
    }
   ],
   "source": [
    "\n",
    "# number of epochs to train the model\n",
    "n_epochs = 10  \n",
    "# per epoch, all the training data set is used once\n",
    "model.train() # prep model for training\n",
    "\n",
    "\n",
    "for epoch in range(n_epochs):\n",
    "    # monitor training loss\n",
    "    train_loss = 0.0\n",
    "    \n",
    "    ###################\n",
    "    # train the model #\n",
    "    ###################\n",
    "    for data, target in train_loader:\n",
    "        data, target = data.to(device), target.to(device) # loading to GPU\n",
    "        # clear the gradients of all optimized variables\n",
    "        optimizer.zero_grad()\n",
    "        # forward pass: compute predicted outputs by passing inputs to the model\n",
    "        output = model(data)\n",
    "        # calculate the loss\n",
    "        loss = criterion(output, target)\n",
    "        loss.backward()\n",
    "        optimizer.step()\n",
    "        train_loss += loss.item()*data.size(0) # as loss is tensor, .item() needed to get the value\n",
    "        \n",
    "    # print training statistics \n",
    "    # calculate average loss over an epoch\n",
    "    train_loss = train_loss/len(train_loader.dataset)\n",
    "\n",
    "    print('Epoch: {} \\tTraining Loss: {:.6f}'.format(epoch+1, train_loss))\n",
    "    "
   ]
  },
  {
   "cell_type": "code",
   "execution_count": 8,
   "id": "flush-account",
   "metadata": {},
   "outputs": [],
   "source": [
    "# see following link for details of state_dict   \n",
    "# https://pytorch.org/tutorials/recipes/recipes/saving_and_loading_a_general_checkpoint.html\n",
    "PATH_prune = \"save/trained_cnn_model_structured_pruned.pt\"\n",
    "\n",
    "torch.save({\n",
    "            'epoch': epoch,\n",
    "            'model_state_dict': model.state_dict(),\n",
    "            'optimizer_state_dict': optimizer.state_dict(),\n",
    "            'loss': train_loss,\n",
    "            }, PATH_prune)\n",
    "\n"
   ]
  },
  {
   "cell_type": "code",
   "execution_count": null,
   "id": "fossil-diabetes",
   "metadata": {},
   "outputs": [],
   "source": [
    "# After above finetuning, run the 7th cell to check the sparsity.\n",
    "# Then, check the accuracy by running the 8th cell"
   ]
  },
  {
   "cell_type": "code",
   "execution_count": 9,
   "id": "printable-warner",
   "metadata": {},
   "outputs": [
    {
     "name": "stdout",
     "output_type": "stream",
     "text": [
      "\n",
      "Test set: Accuracy: 9519/10000 (95%)\n",
      "\n"
     ]
    }
   ],
   "source": [
    "## Now, after running the first cell, let's try to load the stored model.\n",
    "## It won't work because the named_parameters has been changed.\n",
    "## Thus, run 4th cell to make a pruned model.\n",
    "## Then, run this cell.\n",
    "\n",
    "PATH_prune = \"save/trained_cnn_model_structured_pruned.pt\"\n",
    "checkpoint = torch.load(PATH_prune)\n",
    "model.load_state_dict(checkpoint['model_state_dict'])\n",
    "optimizer.load_state_dict(checkpoint['optimizer_state_dict'])\n",
    "epoch = checkpoint['epoch']\n",
    "train_loss = checkpoint['loss']\n",
    "\n",
    "model.eval()\n",
    "\n",
    "test_loss = 0\n",
    "correct = 0\n",
    "\n",
    "with torch.no_grad():\n",
    "    for data, target in test_loader:\n",
    "        data, target = data.to(device), target.to(device) # loading to GPU\n",
    "        output = model(data)\n",
    "        pred = output.argmax(dim=1, keepdim=True)  \n",
    "        correct += pred.eq(target.view_as(pred)).sum().item()\n",
    "\n",
    "test_loss /= len(test_loader.dataset)\n",
    "\n",
    "print('\\nTest set: Accuracy: {}/{} ({:.0f}%)\\n'.format(\n",
    "        correct, len(test_loader.dataset),\n",
    "        100. * correct / len(test_loader.dataset)))"
   ]
  },
  {
   "cell_type": "code",
   "execution_count": null,
   "id": "eight-trick",
   "metadata": {},
   "outputs": [],
   "source": []
  }
 ],
 "metadata": {
  "kernelspec": {
   "display_name": "Python 3",
   "language": "python",
   "name": "python3"
  },
  "language_info": {
   "codemirror_mode": {
    "name": "ipython",
    "version": 3
   },
   "file_extension": ".py",
   "mimetype": "text/x-python",
   "name": "python",
   "nbconvert_exporter": "python",
   "pygments_lexer": "ipython3",
   "version": "3.8.5"
  }
 },
 "nbformat": 4,
 "nbformat_minor": 5
}
